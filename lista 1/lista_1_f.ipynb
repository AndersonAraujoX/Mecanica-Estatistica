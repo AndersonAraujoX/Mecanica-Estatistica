{
 "cells": [
  {
   "cell_type": "code",
   "execution_count": 2,
   "metadata": {},
   "outputs": [],
   "source": [
    "import matplotlib.pyplot as plt\n",
    "import numpy as np\n",
    "import math\n",
    "plt.rcParams['text.usetex'] = True\n",
    "from numba import jit,vectorize,njit,prange\n",
    "import time\n",
    "from scipy.optimize import curve_fit\n",
    "    "
   ]
  },
  {
   "cell_type": "code",
   "execution_count": 4,
   "metadata": {},
   "outputs": [],
   "source": [
    "@njit#chamando a biblioteca numba para paralelizar a função\n",
    "def for_recurrence(m,ni):#função de recorrência m^n, onde ni=n\n",
    "    test=0\n",
    "    if ni>1:\n",
    "        for i in prange(m):\n",
    "            test+=for_recurrence(m,ni-1)\n",
    "    else:\n",
    "        for i in prange(m):\n",
    "            test+=1\n",
    "    return test"
   ]
  },
  {
   "cell_type": "code",
   "execution_count": 5,
   "metadata": {},
   "outputs": [],
   "source": [
    "@njit#chamando a biblioteca numba para paralelizar a função\n",
    "def for_recurrence_01(ni):#função para recorrência binaria\n",
    "    test=0\n",
    "    if ni>1:\n",
    "        for i in prange(2):\n",
    "            test+=for_recurrence_01(ni-1)\n",
    "    else:\n",
    "        for i in prange(2):\n",
    "            test+=1\n",
    "    return test"
   ]
  },
  {
   "cell_type": "code",
   "execution_count": 24,
   "metadata": {},
   "outputs": [
    {
     "name": "stdout",
     "output_type": "stream",
     "text": [
      "1.0 & 2\n",
      "2.0 & 4\n",
      "3.0 & 8\n",
      "4.0 & 16\n",
      "5.0 & 32\n",
      "6.0 & 64\n",
      "7.0 & 128\n",
      "8.0 & 256\n",
      "9.0 & 512\n",
      "10.0 & 1024\n",
      "11.0 & 2048\n",
      "12.0 & 4096\n",
      "13.0 & 8192\n",
      "14.0 & 16384\n",
      "15.0 & 32768\n",
      "16.0 & 65536\n",
      "17.0 & 131072\n",
      "18.0 & 262144\n",
      "19.0 & 524288\n",
      "20.0 & 1048576\n",
      "21.0 & 2097152\n",
      "22.0 & 4194304\n",
      "23.0 & 8388608\n",
      "24.0 & 16777216\n",
      "25.0 & 33554432\n",
      "26.0 & 67108864\n",
      "27.0 & 134217728\n",
      "28.0 & 268435456\n",
      "29.0 & 536870912\n",
      "30.0 & 1073741824\n"
     ]
    }
   ],
   "source": [
    "n=np.linspace(1,30,30)\n",
    "\n",
    "ni=8\n",
    "time_n=[]\n",
    "perm=[]\n",
    "for i in n:\n",
    "    start_time = time.time()\n",
    "    a=for_recurrence_01(i)\n",
    "    print(i,'&',a)\n",
    "#i)+\"}$\")\n",
    "#plt.plot(n,time_n, label=\"time x \"+str(ni))  \n",
    "plt.show()"
   ]
  },
  {
   "cell_type": "code",
   "execution_count": 6,
   "metadata": {},
   "outputs": [
    {
     "name": "stdout",
     "output_type": "stream",
     "text": [
      "1.0 & 1 & 1\n",
      "2.0 & 1 & 2\n",
      "3.0 & 1 & 3\n",
      "4.0 & 1 & 4\n",
      "5.0 & 1 & 5\n",
      "1.0 & 2 & 1\n",
      "2.0 & 2 & 4\n",
      "3.0 & 2 & 9\n",
      "4.0 & 2 & 16\n",
      "5.0 & 2 & 25\n",
      "1.0 & 3 & 1\n",
      "2.0 & 3 & 8\n",
      "3.0 & 3 & 27\n",
      "4.0 & 3 & 64\n",
      "5.0 & 3 & 125\n",
      "1.0 & 4 & 1\n",
      "2.0 & 4 & 16\n",
      "3.0 & 4 & 81\n",
      "4.0 & 4 & 256\n",
      "5.0 & 4 & 625\n",
      "1.0 & 5 & 1\n",
      "2.0 & 5 & 32\n",
      "3.0 & 5 & 243\n",
      "4.0 & 5 & 1024\n",
      "5.0 & 5 & 3125\n",
      "1.0 & 6 & 1\n",
      "2.0 & 6 & 64\n",
      "3.0 & 6 & 729\n",
      "4.0 & 6 & 4096\n",
      "5.0 & 6 & 15625\n",
      "1.0 & 7 & 1\n",
      "2.0 & 7 & 128\n",
      "3.0 & 7 & 2187\n",
      "4.0 & 7 & 16384\n",
      "5.0 & 7 & 78125\n"
     ]
    }
   ],
   "source": [
    "n=np.linspace(1,5,5)\n",
    "for ni in prange(1,8):\n",
    "    for i in n:\n",
    "        print(i,\"&\",ni,\"&\",for_recurrence(int(i),ni))# coloquei esses $ para ficar mais facil de colocar no latex\n"
   ]
  },
  {
   "cell_type": "code",
   "execution_count": 37,
   "metadata": {},
   "outputs": [],
   "source": [
    "def permutation_01(i,m):#permutações binarias\n",
    "    if (i==0 and m==1):#caso for a penultima casa for 0\n",
    "        return 2\n",
    "    elif (i==1 and m==1):#caso for a penultima casa for 1\n",
    "        return 1\n",
    "    elif (m>1 and i==0):#caso o bloco anterior for 0\n",
    "        return permutation_01(1,m-1)+permutation_01(0,m-1)\n",
    "    elif (m>1 and i==1):#caso o bloco anterior for 1\n",
    "        return permutation_01(0,m-1)\n",
    "        "
   ]
  },
  {
   "cell_type": "code",
   "execution_count": 50,
   "metadata": {},
   "outputs": [
    {
     "name": "stdout",
     "output_type": "stream",
     "text": [
      "\\hline\n",
      "1 & 2\n",
      "\\hline\n",
      "2 & 3\n",
      "\\hline\n",
      "3 & 5\n",
      "\\hline\n",
      "4 & 8\n",
      "\\hline\n",
      "5 & 13\n",
      "\\hline\n",
      "6 & 21\n",
      "\\hline\n",
      "7 & 34\n",
      "\\hline\n",
      "8 & 55\n",
      "\\hline\n",
      "9 & 89\n",
      "\\hline\n",
      "10 & 144\n",
      "\\hline\n",
      "11 & 233\n",
      "\\hline\n",
      "12 & 377\n",
      "\\hline\n",
      "13 & 610\n",
      "\\hline\n",
      "14 & 987\n"
     ]
    }
   ],
   "source": [
    "\n",
    "for i in range(1,15):\n",
    "    print(i,'&',permutation_01(0,i))"
   ]
  },
  {
   "cell_type": "code",
   "execution_count": 52,
   "metadata": {},
   "outputs": [],
   "source": [
    "def permutation(i,n,m):\n",
    "    if (i!=1 and n==1):#caso for a penultima casa for diferente 1\n",
    "        return m\n",
    "    elif (i==1 and n==1):#caso for a penultima casa for 1\n",
    "        return (m-1)\n",
    "    elif (n>1 and i!=1):#caso o bloco anterior for diferente 1\n",
    "        return permutation(1,n-1,m)+(m-1)*permutation(0,n-1,m)\n",
    "    elif (n>1 and i==1):#caso o bloco anterior for 1\n",
    "        return (m-1)*permutation(0,n-1,m)\n",
    "        "
   ]
  },
  {
   "cell_type": "code",
   "execution_count": 19,
   "metadata": {},
   "outputs": [
    {
     "name": "stdout",
     "output_type": "stream",
     "text": [
      "\\hline\n",
      "1 & 2 & 2 \\\\\n",
      "\\hline\n",
      "2 & 2 & 3 \\\\\n",
      "\\hline\n",
      "3 & 2 & 5 \\\\\n",
      "\\hline\n",
      "4 & 2 & 8 \\\\\n",
      "\\hline\n",
      "5 & 2 & 13 \\\\\n",
      "\\hline\n",
      "1 & 3 & 3 \\\\\n",
      "\\hline\n",
      "2 & 3 & 8 \\\\\n",
      "\\hline\n",
      "3 & 3 & 22 \\\\\n",
      "\\hline\n",
      "4 & 3 & 60 \\\\\n",
      "\\hline\n",
      "5 & 3 & 164 \\\\\n",
      "\\hline\n",
      "1 & 4 & 4 \\\\\n",
      "\\hline\n",
      "2 & 4 & 15 \\\\\n",
      "\\hline\n",
      "3 & 4 & 57 \\\\\n",
      "\\hline\n",
      "4 & 4 & 216 \\\\\n",
      "\\hline\n",
      "5 & 4 & 819 \\\\\n",
      "\\hline\n",
      "1 & 5 & 5 \\\\\n",
      "\\hline\n",
      "2 & 5 & 24 \\\\\n",
      "\\hline\n",
      "3 & 5 & 116 \\\\\n",
      "\\hline\n",
      "4 & 5 & 560 \\\\\n",
      "\\hline\n",
      "5 & 5 & 2704 \\\\\n"
     ]
    }
   ],
   "source": [
    "n=5\n",
    "m=5\n",
    "for i in range(2,m+1):\n",
    "    for j in range(1,n+1):\n",
    "        print(j,'&',i,'&',permutation(0,j,i))"
   ]
  },
  {
   "cell_type": "code",
   "execution_count": null,
   "metadata": {},
   "outputs": [],
   "source": []
  },
  {
   "cell_type": "code",
   "execution_count": null,
   "metadata": {},
   "outputs": [],
   "source": []
  }
 ],
 "metadata": {
  "kernelspec": {
   "display_name": "Python 3 (ipykernel)",
   "language": "python",
   "name": "python3"
  },
  "language_info": {
   "codemirror_mode": {
    "name": "ipython",
    "version": 3
   },
   "file_extension": ".py",
   "mimetype": "text/x-python",
   "name": "python",
   "nbconvert_exporter": "python",
   "pygments_lexer": "ipython3",
   "version": "3.10.10"
  }
 },
 "nbformat": 4,
 "nbformat_minor": 4
}
