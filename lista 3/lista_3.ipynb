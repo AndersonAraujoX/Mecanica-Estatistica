{
 "cells": [
  {
   "cell_type": "code",
   "execution_count": 1,
   "id": "5c5271a0",
   "metadata": {},
   "outputs": [],
   "source": [
    "using Plots"
   ]
  },
  {
   "cell_type": "code",
   "execution_count": 2,
   "id": "8b51dca5-16f6-4d95-b4c5-e706ded34716",
   "metadata": {
    "scrolled": true
   },
   "outputs": [
    {
     "data": {
      "text/plain": [
       "spin (generic function with 1 method)"
      ]
     },
     "execution_count": 2,
     "metadata": {},
     "output_type": "execute_result"
    }
   ],
   "source": [
    "function spin(s,b,len)\n",
    "    Threads.@threads for k in 1:len\n",
    "        i = rand(2:(n - 2)) \n",
    "        j = rand(2:(n - 2)) \n",
    "        dh = s[i, j] * (s[i + 1, j] + s[i - 1, j] + s[i, j + 1] + s[i, j - 1])\n",
    "        if (dh < 0 || rand()<(exp(-2 * b * dh)))\n",
    "            s[i, j] = -s[i, j]\n",
    "        end\n",
    "    end\n",
    "    return s\n",
    "end"
   ]
  },
  {
   "cell_type": "code",
   "execution_count": 11,
   "id": "3cd2bfe7",
   "metadata": {},
   "outputs": [
    {
     "data": {
      "text/plain": [
       "\"C:\\\\Users\\\\ander\\\\Documents\\\\Prog\\\\Python\\\\mec. estatistica\\\\magneti.png\""
      ]
     },
     "execution_count": 11,
     "metadata": {},
     "output_type": "execute_result"
    }
   ],
   "source": [
    "n = 100\n",
    "s = ones(Int, (n, n))\n",
    "tl = []\n",
    "ml = []\n",
    "\n",
    "sl = []\n",
    "T = 2.1\n",
    "for i in 1:n# zerando as boras para nã contar\n",
    "    s[1, i] = 0\n",
    "    s[n, i] = 0\n",
    "    s[i, 1] = 0\n",
    "    s[i, n] = 0\n",
    "end\n",
    "b = 1 / T\n",
    "len=10^7 # 5 iterações de monte carlos\n",
    "\n",
    "soma2=(n-2)*(n-2)\n",
    "for k in 1:len\n",
    "    push!(tl, k)\n",
    "    i = rand(2:(n - 2)) \n",
    "    j = rand(2:(n - 2)) \n",
    "    dh = s[i, j] * (s[i + 1, j] + s[i - 1, j] + s[i, j + 1] + s[i, j - 1])\n",
    "    \n",
    "    if (dh < 0 || rand() < (exp(-2 * b * dh)))\n",
    "        s[i, j] = -s[i, j]\n",
    "    end\n",
    "    push!(ml,sum(s)/((n-2)*(n-2)))\n",
    "end\n",
    "\n",
    "\n",
    "Plots.plot(tl,ml, xlabel=\"T(tempo)\", ylabel=\"Magnetização\",label=\"Magnetização\")\n",
    "savefig(\"magneti.png\")"
   ]
  },
  {
   "cell_type": "code",
   "execution_count": 12,
   "id": "a2289fe6-ce63-432c-8997-66668d860565",
   "metadata": {},
   "outputs": [
    {
     "data": {
      "text/plain": [
       "\"C:\\\\Users\\\\ander\\\\Documents\\\\Prog\\\\Python\\\\mec. estatistica\\\\energia.png\""
      ]
     },
     "execution_count": 12,
     "metadata": {},
     "output_type": "execute_result"
    }
   ],
   "source": [
    "n = 100\n",
    "s = ones(Int, (n, n))\n",
    "tl = []\n",
    "ml = []\n",
    "el = []\n",
    "sl = []\n",
    "T = 2.1\n",
    "for i in 1:n# zerando as boras para nã contar\n",
    "    s[1, i] = 0\n",
    "    s[n, i] = 0\n",
    "    s[i, 1] = 0\n",
    "    s[i, n] = 0\n",
    "end\n",
    "b = 1 / T\n",
    "len=10^7 # 5 iterações de monte carlos\n",
    "\n",
    "soma=-2*(n-2)*(n-2)\n",
    "\n",
    "for k in 1:len\n",
    "    push!(tl, k)\n",
    "    i = rand(2:(n - 2)) \n",
    "    j = rand(2:(n - 2)) \n",
    "        \n",
    "    dh = s[i, j] * (s[i + 1, j] + s[i - 1, j] + s[i, j + 1] + s[i, j - 1])\n",
    "    \n",
    "    if (dh < 0 || rand() < (exp(-2 * b * dh)))\n",
    "        s[i, j] = -s[i, j]\n",
    "        soma-=4*s[i, j] * (s[i + 1, j] + s[i - 1, j] + s[i, j + 1] + s[i, j - 1])\n",
    "    end\n",
    "    push!(el,soma/((n-2)*(n-2)))\n",
    "end\n",
    "\n",
    "Plots.plot(tl,el, xlabel=\"T(tempo)\", ylabel=\"Energia\",label=\"Energia\")\n",
    "savefig(\"energia.png\")"
   ]
  },
  {
   "cell_type": "code",
   "execution_count": 10,
   "id": "9b130332-db84-44fc-9217-112375c0948d",
   "metadata": {},
   "outputs": [
    {
     "name": "stdout",
     "output_type": "stream",
     "text": [
      "  2.450437 seconds (58.80 M allocations: 1.174 GiB, 17.36% gc time)\n",
      "  2.442890 seconds (58.73 M allocations: 1.173 GiB, 17.11% gc time)\n",
      "  2.371977 seconds (58.70 M allocations: 1.173 GiB, 14.41% gc time)\n",
      "  2.441792 seconds (58.67 M allocations: 1.172 GiB, 17.06% gc time)\n",
      "  2.532102 seconds (58.64 M allocations: 1.172 GiB, 16.90% gc time)\n",
      "  2.410187 seconds (58.61 M allocations: 1.171 GiB, 16.50% gc time)\n",
      "  2.444705 seconds (58.57 M allocations: 1.171 GiB, 17.50% gc time)\n",
      "  2.607343 seconds (58.55 M allocations: 1.170 GiB, 15.96% gc time)\n",
      "  2.468891 seconds (58.51 M allocations: 1.170 GiB, 13.77% gc time)\n",
      "  2.525785 seconds (58.48 M allocations: 1.169 GiB, 16.63% gc time)\n",
      "  2.473501 seconds (58.44 M allocations: 1.169 GiB, 17.06% gc time)\n",
      "  2.503255 seconds (58.40 M allocations: 1.168 GiB, 16.61% gc time)\n",
      "  2.436840 seconds (58.36 M allocations: 1.168 GiB, 17.26% gc time)\n",
      "  2.385458 seconds (58.33 M allocations: 1.167 GiB, 14.28% gc time)\n",
      "  2.458125 seconds (58.29 M allocations: 1.167 GiB, 16.65% gc time)\n",
      "  2.496822 seconds (58.25 M allocations: 1.166 GiB, 16.30% gc time)\n",
      "  2.451626 seconds (58.21 M allocations: 1.165 GiB, 16.62% gc time)\n",
      "  2.490415 seconds (58.18 M allocations: 1.165 GiB, 16.63% gc time)\n",
      "  2.377638 seconds (58.12 M allocations: 1.164 GiB, 14.10% gc time)\n",
      "  2.511259 seconds (58.09 M allocations: 1.164 GiB, 16.74% gc time)\n",
      "  2.509689 seconds (58.05 M allocations: 1.163 GiB, 16.16% gc time)\n",
      "  2.453564 seconds (58.01 M allocations: 1.163 GiB, 16.66% gc time)\n",
      "  2.484997 seconds (57.98 M allocations: 1.162 GiB, 16.42% gc time)\n",
      "  2.537341 seconds (57.93 M allocations: 1.161 GiB, 16.32% gc time)\n",
      "  2.812523 seconds (57.89 M allocations: 1.161 GiB, 14.18% gc time)\n",
      "  2.457055 seconds (57.82 M allocations: 1.160 GiB, 16.26% gc time)\n",
      "  2.447281 seconds (57.78 M allocations: 1.159 GiB, 13.38% gc time)\n",
      "  2.513199 seconds (57.74 M allocations: 1.158 GiB, 16.31% gc time)\n",
      "  2.492639 seconds (57.70 M allocations: 1.158 GiB, 16.41% gc time)\n",
      "  2.467842 seconds (57.64 M allocations: 1.157 GiB, 17.03% gc time)\n",
      "  2.509809 seconds (57.58 M allocations: 1.156 GiB, 16.47% gc time)\n",
      "  2.450503 seconds (57.54 M allocations: 1.155 GiB, 13.40% gc time)\n",
      "  2.475769 seconds (57.51 M allocations: 1.155 GiB, 16.58% gc time)\n",
      "  2.517144 seconds (57.45 M allocations: 1.154 GiB, 16.18% gc time)\n",
      "  2.972207 seconds (57.41 M allocations: 1.153 GiB, 14.27% gc time)\n",
      "  2.475171 seconds (57.36 M allocations: 1.153 GiB, 16.03% gc time)\n",
      "  2.582653 seconds (57.32 M allocations: 1.152 GiB, 15.80% gc time)\n",
      "  2.408580 seconds (57.27 M allocations: 1.151 GiB, 13.76% gc time)\n",
      "  2.604768 seconds (57.22 M allocations: 1.151 GiB, 16.86% gc time)\n",
      "  2.525473 seconds (57.17 M allocations: 1.150 GiB, 16.28% gc time)\n",
      "  2.476742 seconds (57.11 M allocations: 1.149 GiB, 16.95% gc time)\n",
      "  2.428621 seconds (57.07 M allocations: 1.148 GiB, 13.83% gc time)\n",
      "  2.519688 seconds (57.03 M allocations: 1.148 GiB, 16.26% gc time)\n",
      "  2.559360 seconds (57.00 M allocations: 1.147 GiB, 16.09% gc time)\n",
      "  2.537352 seconds (56.96 M allocations: 1.147 GiB, 16.26% gc time)\n",
      "  2.524426 seconds (56.93 M allocations: 1.146 GiB, 15.84% gc time)\n",
      "  2.458152 seconds (56.89 M allocations: 1.146 GiB, 13.91% gc time)\n",
      "  2.540390 seconds (56.85 M allocations: 1.145 GiB, 16.59% gc time)\n",
      "  2.535512 seconds (56.82 M allocations: 1.145 GiB, 16.71% gc time)\n",
      "  2.474448 seconds (56.78 M allocations: 1.144 GiB, 13.51% gc time)\n",
      "  2.553323 seconds (56.75 M allocations: 1.144 GiB, 16.53% gc time)\n",
      "  2.578661 seconds (56.72 M allocations: 1.143 GiB, 16.38% gc time)\n",
      "  2.446466 seconds (56.69 M allocations: 1.143 GiB, 13.68% gc time)\n",
      "  2.595133 seconds (56.65 M allocations: 1.142 GiB, 16.21% gc time)\n",
      "  2.876010 seconds (56.62 M allocations: 1.142 GiB, 15.50% gc time)\n",
      "  2.633629 seconds (56.59 M allocations: 1.141 GiB, 15.03% gc time)\n",
      "  2.580745 seconds (56.57 M allocations: 1.141 GiB, 12.85% gc time)\n",
      "  2.626340 seconds (56.53 M allocations: 1.140 GiB, 15.71% gc time)\n",
      "  2.562051 seconds (56.50 M allocations: 1.140 GiB, 15.68% gc time)\n",
      "  2.530825 seconds (56.48 M allocations: 1.140 GiB, 16.32% gc time)\n",
      "  2.669790 seconds (56.44 M allocations: 1.139 GiB, 12.36% gc time)\n",
      "  2.582004 seconds (56.39 M allocations: 1.138 GiB, 16.02% gc time)\n",
      "  2.590163 seconds (56.38 M allocations: 1.138 GiB, 15.81% gc time)\n",
      "  2.449526 seconds (56.35 M allocations: 1.138 GiB, 13.59% gc time)\n",
      "  2.592770 seconds (56.32 M allocations: 1.137 GiB, 15.76% gc time)\n",
      "  2.899687 seconds (56.29 M allocations: 1.137 GiB, 15.82% gc time)\n",
      "  2.615244 seconds (56.27 M allocations: 1.137 GiB, 15.96% gc time)\n",
      "  2.637389 seconds (56.24 M allocations: 1.136 GiB, 16.50% gc time)\n",
      "  2.510843 seconds (56.20 M allocations: 1.135 GiB, 13.45% gc time)\n",
      "  2.617986 seconds (56.17 M allocations: 1.135 GiB, 15.95% gc time)\n",
      "  2.697178 seconds (56.15 M allocations: 1.135 GiB, 15.12% gc time)\n",
      "  2.611378 seconds (56.13 M allocations: 1.134 GiB, 15.31% gc time)\n",
      "  2.625916 seconds (56.09 M allocations: 1.134 GiB, 15.50% gc time)\n",
      "  2.641381 seconds (56.07 M allocations: 1.134 GiB, 16.35% gc time)\n",
      "  2.514575 seconds (56.04 M allocations: 1.133 GiB, 13.21% gc time)\n",
      "  2.590990 seconds (56.02 M allocations: 1.133 GiB, 16.69% gc time)\n",
      "  2.566631 seconds (55.99 M allocations: 1.132 GiB, 15.82% gc time)\n",
      "  2.541686 seconds (55.97 M allocations: 1.132 GiB, 13.33% gc time)\n",
      "  2.591333 seconds (55.93 M allocations: 1.132 GiB, 16.06% gc time)\n",
      "  2.504048 seconds (55.91 M allocations: 1.131 GiB, 13.13% gc time)\n",
      "  2.565218 seconds (55.89 M allocations: 1.131 GiB, 16.28% gc time)\n",
      "  2.587662 seconds (55.86 M allocations: 1.130 GiB, 16.20% gc time)\n",
      "  2.519743 seconds (55.84 M allocations: 1.130 GiB, 13.96% gc time)\n",
      "  2.539274 seconds (55.81 M allocations: 1.130 GiB, 16.30% gc time)\n",
      "  2.568366 seconds (55.78 M allocations: 1.129 GiB, 16.07% gc time)\n",
      "  2.483179 seconds (55.77 M allocations: 1.129 GiB, 13.69% gc time)\n",
      "  2.783087 seconds (55.74 M allocations: 1.129 GiB, 14.91% gc time)\n",
      "  2.693212 seconds (55.71 M allocations: 1.128 GiB, 15.99% gc time)\n",
      "  2.475793 seconds (55.69 M allocations: 1.128 GiB, 13.37% gc time)\n",
      "  2.560695 seconds (55.67 M allocations: 1.128 GiB, 16.36% gc time)\n",
      "  2.573546 seconds (55.64 M allocations: 1.127 GiB, 15.91% gc time)\n",
      "  2.457369 seconds (55.61 M allocations: 1.127 GiB, 13.18% gc time)\n",
      "  2.555345 seconds (55.60 M allocations: 1.127 GiB, 16.80% gc time)\n",
      "  2.468336 seconds (55.57 M allocations: 1.126 GiB, 13.31% gc time)\n",
      "  2.557002 seconds (55.55 M allocations: 1.126 GiB, 16.49% gc time)\n",
      "  2.878191 seconds (55.52 M allocations: 1.125 GiB, 15.22% gc time)\n",
      "  2.492438 seconds (55.50 M allocations: 1.125 GiB, 13.62% gc time)\n",
      "  2.563605 seconds (55.48 M allocations: 1.125 GiB, 16.23% gc time)\n",
      "  2.571526 seconds (55.46 M allocations: 1.124 GiB, 16.55% gc time)\n",
      "  2.440214 seconds (55.44 M allocations: 1.124 GiB, 13.87% gc time)\n",
      "  2.557587 seconds (55.42 M allocations: 1.124 GiB, 16.34% gc time)\n"
     ]
    },
    {
     "data": {
      "text/plain": [
       "\"C:\\\\Users\\\\ander\\\\Documents\\\\Prog\\\\Python\\\\mec. estatistica\\\\magnetizacao.png\""
      ]
     },
     "execution_count": 10,
     "metadata": {},
     "output_type": "execute_result"
    }
   ],
   "source": [
    "n = 400\n",
    "s = ones(Int, (n, n))\n",
    "tl = []\n",
    "ml = []\n",
    "mean_ml = []\n",
    "sl = []\n",
    "\n",
    "for i in 1:n# zerando as boras para nã contar\n",
    "    s[1, i] = 0\n",
    "    s[n, i] = 0\n",
    "    s[i, 1] = 0\n",
    "    s[i, n] = 0\n",
    "end\n",
    "\n",
    "soma2=sum(s)\n",
    "len=(n-2)*(n-2)\n",
    "for a in 0:100\n",
    "    T = 2 + a*0.01\n",
    "    b = 1 / T\n",
    "    push!(tl, T)\n",
    "    @time s=spin(s,b,10^7) \n",
    "    push!(ml,sum(s)/len)\n",
    "end\n",
    "Plots.scatter(tl,ml, xlabel=\"T(temperatura)\", ylabel=\"Magnetização\",label=\"M(T)\")\n",
    "savefig(\"magnetizacao.png\")"
   ]
  },
  {
   "cell_type": "code",
   "execution_count": null,
   "id": "239aa528-4ffb-4b52-b309-58721e3a2a6b",
   "metadata": {},
   "outputs": [],
   "source": []
  }
 ],
 "metadata": {
  "kernelspec": {
   "display_name": "Julia 1.9.0",
   "language": "julia",
   "name": "julia-1.9"
  },
  "language_info": {
   "file_extension": ".jl",
   "mimetype": "application/julia",
   "name": "julia",
   "version": "1.9.0"
  }
 },
 "nbformat": 4,
 "nbformat_minor": 5
}
